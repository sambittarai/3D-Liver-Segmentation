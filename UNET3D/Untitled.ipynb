{
 "cells": [
  {
   "cell_type": "code",
   "execution_count": 8,
   "metadata": {},
   "outputs": [
    {
     "name": "stdout",
     "output_type": "stream",
     "text": [
      "1451401.0\n",
      "1258999.0\n",
      "0.0\n"
     ]
    },
    {
     "data": {
      "text/plain": [
       "0"
      ]
     },
     "execution_count": 8,
     "metadata": {},
     "output_type": "execute_result"
    }
   ],
   "source": [
    "import numpy as np\n",
    "import os\n",
    "\n",
    "data_root = 'data/train/'\n",
    "label0 = np.zeros((50))\n",
    "label1 = np.zeros((50))\n",
    "label2 = np.zeros((50))\n",
    "\n",
    "for i in range(50):\n",
    "    label_path = os.path.join(data_root, 'img9_label'+str(i)+'.npy')\n",
    "    label = np.load(label_path)\n",
    "    #print(\"i: \", i, \"non-liver: \", len(label[label==0]), \"liver: \", len(label[label==1]), \"tumor: \", len(label[label==2]))\n",
    "    label0[i] = len(label[label==0])\n",
    "    label1[i] = len(label[label==1])\n",
    "    label2[i] = len(label[label==2])\n",
    "print(sum(label0))\n",
    "print(sum(label1))\n",
    "print(sum(label2))\n"
   ]
  },
  {
   "cell_type": "code",
   "execution_count": 1,
   "metadata": {},
   "outputs": [
    {
     "data": {
      "text/plain": [
       "'/home/sambit/RSNA2019/UNET3D'"
      ]
     },
     "execution_count": 1,
     "metadata": {},
     "output_type": "execute_result"
    }
   ],
   "source": []
  }
 ],
 "metadata": {
  "kernelspec": {
   "display_name": "Python 3",
   "language": "python",
   "name": "python3"
  },
  "language_info": {
   "codemirror_mode": {
    "name": "ipython",
    "version": 3
   },
   "file_extension": ".py",
   "mimetype": "text/x-python",
   "name": "python",
   "nbconvert_exporter": "python",
   "pygments_lexer": "ipython3",
   "version": "3.5.2"
  }
 },
 "nbformat": 4,
 "nbformat_minor": 4
}
