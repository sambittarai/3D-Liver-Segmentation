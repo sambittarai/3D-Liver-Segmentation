{
 "cells": [
  {
   "cell_type": "code",
   "execution_count": 40,
   "metadata": {},
   "outputs": [
    {
     "name": "stdout",
     "output_type": "stream",
     "text": [
      "Done\n"
     ]
    }
   ],
   "source": [
    "import os\n",
    "import numpy as np\n",
    "import SimpleITK as sitk\n",
    "import torch\n",
    "from torch.autograd import Variable\n",
    "from unet3d import UNet\n",
    "import progressbar\n",
    "os.environ['CUDA_VISIBLE_DEVICES']='1'\n",
    "print(\"Done\")"
   ]
  },
  {
   "cell_type": "code",
   "execution_count": 41,
   "metadata": {},
   "outputs": [
    {
     "name": "stdout",
     "output_type": "stream",
     "text": [
      "Done\n"
     ]
    }
   ],
   "source": [
    "from iterator import BasicVolumeIterator\n",
    "from pred_utils import calc_pad_for_fit, calc_pad_for_pred_loss, crop_pad_width\n",
    "print(\"Done\")"
   ]
  },
  {
   "cell_type": "code",
   "execution_count": 42,
   "metadata": {},
   "outputs": [
    {
     "name": "stdout",
     "output_type": "stream",
     "text": [
      "Done\n"
     ]
    }
   ],
   "source": [
    "patch_size = [116, 132, 132]\n",
    "out_size = [28, 44, 44]\n",
    "print(\"Done\")"
   ]
  },
  {
   "cell_type": "code",
   "execution_count": 43,
   "metadata": {},
   "outputs": [
    {
     "name": "stdout",
     "output_type": "stream",
     "text": [
      "Done\n"
     ]
    }
   ],
   "source": [
    "model = UNet(n_ch = 1, n_class = 2).cuda()\n",
    "ckpt = torch.load('models/model_epoch45.bin')\n",
    "model.load_state_dict(ckpt);\n",
    "model.eval();\n",
    "print(\"Done\")"
   ]
  },
  {
   "cell_type": "code",
   "execution_count": 44,
   "metadata": {},
   "outputs": [
    {
     "name": "stdout",
     "output_type": "stream",
     "text": [
      "Original Image size:  (512, 512, 685)\n",
      "img arr shape :  (240, 179, 179)\n",
      "pad size 1 :  ((6, 6), (20, 21), (20, 21))\n",
      "pad size 2 :  [(44, 44), (44, 44), (44, 44)]\n",
      "Done\n"
     ]
    }
   ],
   "source": [
    "import scipy.ndimage as snd\n",
    "from utils import resample\n",
    "\n",
    "img_path = '/mnt/data/LiverCT/Parenchyma/LITS/val/volume-100.nii'\n",
    "\n",
    "img = sitk.ReadImage(img_path)\n",
    "\n",
    "#Get the spacing b/w the original image\n",
    "input_spacing = img.GetSpacing()\n",
    "img_size = img.GetSize()\n",
    "print(\"Original Image size: \", img_size)\n",
    "\n",
    "img = resample(img, (1.0, 1.0, 1.0), interpolator = sitk.sitkLinear)\n",
    "\n",
    "img_arr = sitk.GetArrayFromImage(img)\n",
    "img_arr = snd.zoom(img_arr, zoom = (0.5, 0.5, 0.5), order = 1)\n",
    "\n",
    "print('img arr shape : ', img_arr.shape)\n",
    "pad_size1 = calc_pad_for_fit(img_arr.shape, out_size)\n",
    "print('pad size 1 : ', pad_size1)\n",
    "pad_size2 = calc_pad_for_pred_loss(patch_size, out_size)\n",
    "print('pad size 2 : ', pad_size2)\n",
    "\n",
    "pad_size_to_crop = pad_size1\n",
    "tot_pad_size = [(x[0]+y[0], x[1]+y[1]) for x,y in zip(pad_size1, pad_size2)]\n",
    "img_arr = np.clip(img_arr, -100, 400)\n",
    "img_arr = (np.float32(img_arr) +100)/(250) - 1\n",
    "\n",
    "img_arr_padded = np.pad(img_arr, tot_pad_size, mode = 'constant')\n",
    "\n",
    "zeros_arr = np.zeros(img_arr.shape)\n",
    "dummy_output_arr_to_be_predicted = np.pad(zeros_arr, pad_size1, mode = 'constant')\n",
    "print(\"Done\")"
   ]
  },
  {
   "cell_type": "code",
   "execution_count": 45,
   "metadata": {},
   "outputs": [
    {
     "data": {
      "text/plain": [
       "(0.69921875, 0.69921875, 0.6999999284744263)"
      ]
     },
     "execution_count": 45,
     "metadata": {},
     "output_type": "execute_result"
    }
   ],
   "source": [
    "input_spacing"
   ]
  },
  {
   "cell_type": "code",
   "execution_count": 46,
   "metadata": {},
   "outputs": [
    {
     "name": "stdout",
     "output_type": "stream",
     "text": [
      "Done\n"
     ]
    }
   ],
   "source": [
    "inp_itr = BasicVolumeIterator(img_arr_padded, patch_size, out_size)\n",
    "out_itr = BasicVolumeIterator(dummy_output_arr_to_be_predicted, out_size, out_size)\n",
    "print(\"Done\")"
   ]
  },
  {
   "cell_type": "code",
   "execution_count": 47,
   "metadata": {},
   "outputs": [
    {
     "name": "stderr",
     "output_type": "stream",
     "text": [
      "/mnt/data/venv/pytorch1.1/lib/python3.5/site-packages/ipykernel_launcher.py:9: UserWarning: volatile was removed and now has no effect. Use `with torch.no_grad():` instead.\n",
      "  if __name__ == '__main__':\n"
     ]
    },
    {
     "name": "stdout",
     "output_type": "stream",
     "text": [
      "Patch count :  225\n"
     ]
    },
    {
     "name": "stderr",
     "output_type": "stream",
     "text": [
      "100% |########################################################################|\r"
     ]
    },
    {
     "name": "stdout",
     "output_type": "stream",
     "text": [
      "(252, 220, 220)\n",
      "Done\n"
     ]
    }
   ],
   "source": [
    "patch_count = out_itr.get_num_patches()\n",
    "bar = progressbar.ProgressBar(patch_count).start()\n",
    "count = 0\n",
    "print('Patch count : ', patch_count)\n",
    "while inp_itr.is_not_over():\n",
    "    input_arr = inp_itr.get_patch().reshape(1,1,116,132,132)\n",
    "#     print(input_arr.min(), input_arr.max())\n",
    "    inp_itr.move_coords()\n",
    "    input_arr = Variable(torch.from_numpy(input_arr).float().cuda(), volatile = True)\n",
    "    pred_arr = model(input_arr)\n",
    "    pred_arr = pred_arr.argmax(dim = 1)\n",
    "    pred_arr = pred_arr.data.cpu().numpy()\n",
    "    unq = np.unique(pred_arr)\n",
    "    if count % 100 == 0:\n",
    "        if unq.max() > 0:\n",
    "            print(unq)\n",
    "    out_itr.set_patch(pred_arr[0])\n",
    "    out_itr.move_coords()\n",
    "    bar.update(count+1)\n",
    "    count = count + 1\n",
    "output_arr = out_itr.vol_array\n",
    "print(output_arr.shape)\n",
    "output_arr = crop_pad_width(output_arr, pad_size_to_crop)\n",
    "# np.save('/mnt/sdb1/intern_data/pix2pix_wbce_pet3d/test_outputs/0_pred.npy', output_arr)\n",
    "print(\"Done\")"
   ]
  },
  {
   "cell_type": "code",
   "execution_count": 48,
   "metadata": {},
   "outputs": [
    {
     "name": "stdout",
     "output_type": "stream",
     "text": [
      "(240, 179, 179) (240, 179, 179) ((6, 6), (20, 21), (20, 21))\n"
     ]
    }
   ],
   "source": [
    "print(img_arr.shape, output_arr.shape, pad_size1)"
   ]
  },
  {
   "cell_type": "code",
   "execution_count": null,
   "metadata": {},
   "outputs": [
    {
     "name": "stdout",
     "output_type": "stream",
     "text": [
      "Done\n"
     ]
    }
   ],
   "source": [
    "# extract (ground truth) label array for comparing with prediction\n",
    "\n",
    "lbl_path = '/mnt/data/LiverCT/Parenchyma/LITS/val/segmentation-100.nii'\n",
    "\n",
    "lbl = sitk.ReadImage(lbl_path)\n",
    "zz = lbl\n",
    "lbl_size = lbl.GetSize()\n",
    "spacing = lbl.GetSpacing()\n",
    "\n",
    "lbl = resample(lbl, (1.0, 1.0, 1.0), interpolator = sitk.sitkLinear)\n",
    "\n",
    "lbl_arr = sitk.GetArrayFromImage(lbl)\n",
    "lbl_arr[lbl_arr == 2] = 1\n",
    "lbl_arr = np.uint8(snd.zoom(lbl_arr, zoom = (0.5, 0.5, 0.5), order = 0))\n",
    "print(\"Done\")"
   ]
  },
  {
   "cell_type": "code",
   "execution_count": null,
   "metadata": {},
   "outputs": [],
   "source": [
    "import matplotlib\n",
    "%matplotlib inline\n",
    "import matplotlib.pyplot as plt\n",
    "import numpy as np\n",
    "\n",
    "print(np.unique(output_arr))\n",
    "# print(output_arr.sum())\n",
    "for idx in range(output_arr.shape[0]):\n",
    "    if idx %10 == 0:\n",
    "        print(idx)\n",
    "        plt.figure()\n",
    "        slc = output_arr[idx]\n",
    "        print(np.unique(slc))\n",
    "        plt.subplot(1,2,1)\n",
    "        plt.imshow(slc, cmap = 'gray')\n",
    "        plt.subplot(1,2,2)\n",
    "        plt.imshow(lbl_arr[idx], cmap = 'gray')\n",
    "        plt.show()"
   ]
  },
  {
   "cell_type": "code",
   "execution_count": 32,
   "metadata": {},
   "outputs": [
    {
     "data": {
      "text/plain": [
       "array([0.])"
      ]
     },
     "execution_count": 32,
     "metadata": {},
     "output_type": "execute_result"
    }
   ],
   "source": [
    "#Converting the predicted images back to it's original space\n",
    "img_arr.shape\n",
    "output_arr.shape\n",
    "np.unique(output_arr)"
   ]
  },
  {
   "cell_type": "code",
   "execution_count": 33,
   "metadata": {},
   "outputs": [
    {
     "data": {
      "text/plain": [
       "(512, 512, 686)"
      ]
     },
     "execution_count": 33,
     "metadata": {},
     "output_type": "execute_result"
    }
   ],
   "source": [
    "final_seg = snd.zoom(output_arr, zoom = (1/0.5, 1/0.5, 1/0.5), order = 1)\n",
    "final_seg = sitk.GetImageFromArray(final_seg)\n",
    "final_seg = resample(final_seg, (input_spacing[0], input_spacing[1], input_spacing[2]), interpolator = sitk.sitkLinear)\n",
    "#final_seg = resample(final_seg, (input_spacing[0], input_spacing[1], input_spacing[2]), interpolator = sitk.sitkNearestNeighbor)\n",
    "final_seg.GetSize()"
   ]
  },
  {
   "cell_type": "code",
   "execution_count": 34,
   "metadata": {},
   "outputs": [
    {
     "name": "stdout",
     "output_type": "stream",
     "text": [
      "Image size before resampling and zoom:  (512, 512, 685)\n",
      "Image size after resampling and zoom:  (240, 179, 179)\n",
      "Label size:  (512, 512, 685)\n",
      "Predicted Label size by the network:  (240, 179, 179)\n",
      "Predicted Label size after undoing all the things:  (512, 512, 686)\n",
      "Spacing in the image space:  (0.69921875, 0.69921875, 0.6999999284744263)\n",
      "Spacing in the transformed space:  (1.0, 1.0, 1.0)\n"
     ]
    }
   ],
   "source": [
    "print(\"Image size before resampling and zoom: \", img_size)\n",
    "print(\"Image size after resampling and zoom: \", img_arr.shape)\n",
    "print(\"Label size: \", lbl_size)\n",
    "print(\"Predicted Label size by the network: \", output_arr.shape)\n",
    "print(\"Predicted Label size after undoing all the things: \", final_seg.GetSize())\n",
    "print(\"Spacing in the image space: \", input_spacing)\n",
    "print(\"Spacing in the transformed space: \", img.GetSpacing())"
   ]
  },
  {
   "cell_type": "code",
   "execution_count": 15,
   "metadata": {},
   "outputs": [
    {
     "data": {
      "text/plain": [
       "(623, 512, 512)"
      ]
     },
     "execution_count": 15,
     "metadata": {},
     "output_type": "execute_result"
    }
   ],
   "source": [
    "z = sitk.GetArrayFromImage(final_seg)\n",
    "z[z <= 0.5] = 0\n",
    "z[z >= 0.5] = 1\n",
    "zz = sitk.GetArrayFromImage(zz)\n",
    "zz[zz == 2] = 1\n",
    "#z = z[:,:512,:512]\n",
    "\n",
    "zz = zz[:623,:,:]\n",
    "zz.shape"
   ]
  },
  {
   "cell_type": "code",
   "execution_count": 35,
   "metadata": {},
   "outputs": [
    {
     "data": {
      "text/plain": [
       "array([0, 1], dtype=uint8)"
      ]
     },
     "execution_count": 35,
     "metadata": {},
     "output_type": "execute_result"
    }
   ],
   "source": [
    "z = sitk.GetArrayFromImage(final_seg)\n",
    "z = z[:685]\n",
    "\n",
    "z[z <= 0.5] = 0\n",
    "z[z >= 0.5] = 1\n",
    "\n",
    "zz = sitk.GetArrayFromImage(zz)\n",
    "zz[zz == 2] = 1\n",
    "np.unique(zz)"
   ]
  },
  {
   "cell_type": "code",
   "execution_count": 15,
   "metadata": {},
   "outputs": [
    {
     "data": {
      "text/plain": [
       "array([0., 1.])"
      ]
     },
     "execution_count": 15,
     "metadata": {},
     "output_type": "execute_result"
    }
   ],
   "source": [
    "np.unique(z)"
   ]
  },
  {
   "cell_type": "code",
   "execution_count": 36,
   "metadata": {},
   "outputs": [
    {
     "data": {
      "text/plain": [
       "0.0"
      ]
     },
     "execution_count": 36,
     "metadata": {},
     "output_type": "execute_result"
    }
   ],
   "source": [
    "#Now do the DICE\n",
    "\n",
    "dice = np.sum(2.0*(q*zz))/(np.sum(q) + np.sum(zz))\n",
    "#dice = np.sum(2.0*(z*zz))/(np.sum(z) + np.sum(zz))\n",
    "\n",
    "dice"
   ]
  },
  {
   "cell_type": "code",
   "execution_count": 159,
   "metadata": {},
   "outputs": [
    {
     "data": {
      "text/plain": [
       "0.856895958698147"
      ]
     },
     "execution_count": 159,
     "metadata": {},
     "output_type": "execute_result"
    }
   ],
   "source": [
    "dice24 \n",
    "dice130"
   ]
  },
  {
   "cell_type": "code",
   "execution_count": 190,
   "metadata": {},
   "outputs": [],
   "source": [
    "dice130 = dice"
   ]
  },
  {
   "cell_type": "code",
   "execution_count": 38,
   "metadata": {},
   "outputs": [
    {
     "ename": "AssertionError",
     "evalue": "",
     "output_type": "error",
     "traceback": [
      "\u001b[0;31m---------------------------------------------------------------------------\u001b[0m",
      "\u001b[0;31mAssertionError\u001b[0m                            Traceback (most recent call last)",
      "\u001b[0;32m<ipython-input-38-9593b6fca3a5>\u001b[0m in \u001b[0;36m<module>\u001b[0;34m\u001b[0m\n\u001b[1;32m     10\u001b[0m     \u001b[0;32mreturn\u001b[0m \u001b[0mlargestCC\u001b[0m\u001b[0;34m\u001b[0m\u001b[0m\n\u001b[1;32m     11\u001b[0m \u001b[0;34m\u001b[0m\u001b[0m\n\u001b[0;32m---> 12\u001b[0;31m \u001b[0mq\u001b[0m \u001b[0;34m=\u001b[0m \u001b[0mgetLargestCC\u001b[0m\u001b[0;34m(\u001b[0m\u001b[0mz\u001b[0m\u001b[0;34m)\u001b[0m\u001b[0;34m\u001b[0m\u001b[0m\n\u001b[0m\u001b[1;32m     13\u001b[0m \u001b[0mq\u001b[0m\u001b[0;34m.\u001b[0m\u001b[0mshape\u001b[0m\u001b[0;34m\u001b[0m\u001b[0m\n",
      "\u001b[0;32m<ipython-input-38-9593b6fca3a5>\u001b[0m in \u001b[0;36mgetLargestCC\u001b[0;34m(segmentation)\u001b[0m\n\u001b[1;32m      6\u001b[0m \u001b[0;32mdef\u001b[0m \u001b[0mgetLargestCC\u001b[0m\u001b[0;34m(\u001b[0m\u001b[0msegmentation\u001b[0m\u001b[0;34m)\u001b[0m\u001b[0;34m:\u001b[0m\u001b[0;34m\u001b[0m\u001b[0m\n\u001b[1;32m      7\u001b[0m     \u001b[0mlabels\u001b[0m \u001b[0;34m=\u001b[0m \u001b[0mlabel\u001b[0m\u001b[0;34m(\u001b[0m\u001b[0msegmentation\u001b[0m\u001b[0;34m)\u001b[0m\u001b[0;34m\u001b[0m\u001b[0m\n\u001b[0;32m----> 8\u001b[0;31m     \u001b[0;32massert\u001b[0m\u001b[0;34m(\u001b[0m \u001b[0mlabels\u001b[0m\u001b[0;34m.\u001b[0m\u001b[0mmax\u001b[0m\u001b[0;34m(\u001b[0m\u001b[0;34m)\u001b[0m \u001b[0;34m!=\u001b[0m \u001b[0;36m0\u001b[0m \u001b[0;34m)\u001b[0m \u001b[0;31m# assume at least 1 CC\u001b[0m\u001b[0;34m\u001b[0m\u001b[0m\n\u001b[0m\u001b[1;32m      9\u001b[0m     \u001b[0mlargestCC\u001b[0m \u001b[0;34m=\u001b[0m \u001b[0mlabels\u001b[0m \u001b[0;34m==\u001b[0m \u001b[0mnp\u001b[0m\u001b[0;34m.\u001b[0m\u001b[0margmax\u001b[0m\u001b[0;34m(\u001b[0m\u001b[0mnp\u001b[0m\u001b[0;34m.\u001b[0m\u001b[0mbincount\u001b[0m\u001b[0;34m(\u001b[0m\u001b[0mlabels\u001b[0m\u001b[0;34m.\u001b[0m\u001b[0mflat\u001b[0m\u001b[0;34m)\u001b[0m\u001b[0;34m[\u001b[0m\u001b[0;36m1\u001b[0m\u001b[0;34m:\u001b[0m\u001b[0;34m]\u001b[0m\u001b[0;34m)\u001b[0m\u001b[0;34m+\u001b[0m\u001b[0;36m1\u001b[0m\u001b[0;34m\u001b[0m\u001b[0m\n\u001b[1;32m     10\u001b[0m     \u001b[0;32mreturn\u001b[0m \u001b[0mlargestCC\u001b[0m\u001b[0;34m\u001b[0m\u001b[0m\n",
      "\u001b[0;31mAssertionError\u001b[0m: "
     ]
    }
   ],
   "source": [
    "#Largest connected component segmentation\n",
    "\n",
    "import numpy as np\n",
    "from skimage.measure import label   \n",
    "\n",
    "def getLargestCC(segmentation):\n",
    "    labels = label(segmentation)\n",
    "    assert( labels.max() != 0 ) # assume at least 1 CC\n",
    "    largestCC = labels == np.argmax(np.bincount(labels.flat)[1:])+1\n",
    "    return largestCC\n",
    "\n",
    "q = getLargestCC(z)\n",
    "q.shape"
   ]
  },
  {
   "cell_type": "code",
   "execution_count": null,
   "metadata": {},
   "outputs": [],
   "source": [
    "import matplotlib.pyplot as plt\n",
    "for i in range(100):\n",
    "    plt.imshow(q[i+400,:,:], cmap=\"gray\")\n",
    "    plt.show()\n",
    "    plt.imshow(zz[i+400,:,:], cmap=\"gray\")\n",
    "    plt.show()"
   ]
  },
  {
   "cell_type": "code",
   "execution_count": 25,
   "metadata": {},
   "outputs": [
    {
     "data": {
      "image/png": "[encoded data removed]",
      "text/plain": [
       "<Figure size 432x288 with 1 Axes>"
      ]
     },
     "metadata": {
      "needs_background": "light"
     },
     "output_type": "display_data"
    },
    {
     "data": {
      "image/png": "[encoded data removed]",
      "text/plain": [
       "<Figure size 432x288 with 1 Axes>"
      ]
     },
     "metadata": {
      "needs_background": "light"
     },
     "output_type": "display_data"
    }
   ],
   "source": [
    "loss1 = np.load('loss/loss1_18.npy')\n",
    "loss2 = np.load('loss/loss2_18.npy')\n",
    "t = np.arange(19)\n",
    "t = t+1\n",
    "import matplotlib.pyplot as plt\n",
    "plt.plot(t,loss1)\n",
    "plt.show()\n",
    "plt.plot(t[:18],loss2)\n",
    "plt.show()"
   ]
  }
 ],
 "metadata": {
  "kernelspec": {
   "display_name": "Python 3",
   "language": "python",
   "name": "python3"
  },
  "language_info": {
   "codemirror_mode": {
    "name": "ipython",
    "version": 3
   },
   "file_extension": ".py",
   "mimetype": "text/x-python",
   "name": "python",
   "nbconvert_exporter": "python",
   "pygments_lexer": "ipython3",
   "version": "3.5.2"
  }
 },
 "nbformat": 4,
 "nbformat_minor": 4
}
