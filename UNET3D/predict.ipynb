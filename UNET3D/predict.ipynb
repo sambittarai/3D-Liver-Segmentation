{
  "nbformat": 4,
  "nbformat_minor": 0,
  "metadata": {
    "kernelspec": {
      "display_name": "Python 3",
      "language": "python",
      "name": "python3"
    },
    "language_info": {
      "codemirror_mode": {
        "name": "ipython",
        "version": 3
      },
      "file_extension": ".py",
      "mimetype": "text/x-python",
      "name": "python",
      "nbconvert_exporter": "python",
      "pygments_lexer": "ipython3",
      "version": "3.5.2"
    },
    "colab": {
      "name": "predict.ipynb",
      "provenance": []
    }
  },
  "cells": [
    {
      "cell_type": "code",
      "metadata": {
        "id": "e5UlDsj_fQlv",
        "colab_type": "code",
        "colab": {}
      },
      "source": [
        "import os\n",
        "import numpy as np\n",
        "import SimpleITK as sitk\n",
        "import torch\n",
        "from torch.autograd import Variable\n",
        "from unet3d import UNet\n",
        "import progressbar\n",
        "os.environ['CUDA_VISIBLE_DEVICES']='0'"
      ],
      "execution_count": 0,
      "outputs": []
    },
    {
      "cell_type": "code",
      "metadata": {
        "id": "2WkUvzcFfQl4",
        "colab_type": "code",
        "colab": {}
      },
      "source": [
        "from iterator import BasicVolumeIterator\n",
        "from pred_utils import calc_pad_for_fit, calc_pad_for_pred_loss, crop_pad_width"
      ],
      "execution_count": 0,
      "outputs": []
    },
    {
      "cell_type": "code",
      "metadata": {
        "id": "WboMIX7hfQl7",
        "colab_type": "code",
        "colab": {}
      },
      "source": [
        "patch_size = [116, 132, 132]\n",
        "out_size = [28, 44, 44]"
      ],
      "execution_count": 0,
      "outputs": []
    },
    {
      "cell_type": "code",
      "metadata": {
        "id": "0Tq7YKePfQl9",
        "colab_type": "code",
        "colab": {}
      },
      "source": [
        "model = UNet(n_ch = 1, n_class = 2).cuda()\n",
        "ckpt = torch.load('./models/model_epoch95.bin')\n",
        "model.load_state_dict(ckpt);\n",
        "model.eval();"
      ],
      "execution_count": 0,
      "outputs": []
    },
    {
      "cell_type": "code",
      "metadata": {
        "id": "zWU2J2PvfQmA",
        "colab_type": "code",
        "colab": {}
      },
      "source": [
        "import scipy.ndimage as snd\n",
        "from utils import resample\n",
        "\n",
        "img_path = '/mnt/data/LiverCT/Parenchyma/LITS/val/volume-100.nii'\n",
        "\n",
        "img = sitk.ReadImage(img_path)\n",
        "img = resample(img, (1.0, 1.0, 1.0), interpolator = sitk.sitkLinear)\n",
        "\n",
        "img_arr = sitk.GetArrayFromImage(img)\n",
        "img_arr = snd.zoom(img_arr, zoom = (0.5, 0.5, 0.5), order = 1)\n",
        "\n",
        "print('img arr shape : ', img_arr.shape)\n",
        "pad_size1 = calc_pad_for_fit(img_arr.shape, out_size)\n",
        "print('pad size 1 : ', pad_size1)\n",
        "pad_size2 = calc_pad_for_pred_loss(patch_size, out_size)\n",
        "print('pad size 2 : ', pad_size2)\n",
        "\n",
        "pad_size_to_crop = pad_size1\n",
        "tot_pad_size = [(x[0]+y[0], x[1]+y[1]) for x,y in zip(pad_size1, pad_size2)]\n",
        "img_arr = np.clip(img_arr, -100, 400)\n",
        "img_arr = (np.float32(img_arr) +100)/(250) - 1\n",
        "\n",
        "img_arr_padded = np.pad(img_arr, tot_pad_size, mode = 'constant')\n",
        "\n",
        "zeros_arr = np.zeros(img_arr.shape)\n",
        "dummy_output_arr_to_be_predicted = np.pad(zeros_arr, pad_size1, mode = 'constant')"
      ],
      "execution_count": 0,
      "outputs": []
    },
    {
      "cell_type": "code",
      "metadata": {
        "id": "5FwSJH78fQmC",
        "colab_type": "code",
        "colab": {}
      },
      "source": [
        "inp_itr = BasicVolumeIterator(img_arr_padded, patch_size, out_size)\n",
        "out_itr = BasicVolumeIterator(dummy_output_arr_to_be_predicted, out_size, out_size)"
      ],
      "execution_count": 0,
      "outputs": []
    },
    {
      "cell_type": "code",
      "metadata": {
        "id": "dQtJY4FnfQmG",
        "colab_type": "code",
        "colab": {}
      },
      "source": [
        "patch_count = out_itr.get_num_patches()\n",
        "bar = progressbar.ProgressBar(patch_count).start()\n",
        "count = 0\n",
        "print('Patch count : ', patch_count)\n",
        "while inp_itr.is_not_over():\n",
        "    input_arr = inp_itr.get_patch().reshape(1,1,116,132,132)\n",
        "#     print(input_arr.min(), input_arr.max())\n",
        "    inp_itr.move_coords()\n",
        "    input_arr = Variable(torch.from_numpy(input_arr).float().cuda(), volatile = True)\n",
        "    pred_arr = model(input_arr)\n",
        "    pred_arr = pred_arr.argmax(dim = 1)\n",
        "    pred_arr = pred_arr.data.cpu().numpy()\n",
        "    unq = np.unique(pred_arr)\n",
        "    if count % 100 == 0:\n",
        "        if unq.max() > 0:\n",
        "            print(unq)\n",
        "    out_itr.set_patch(pred_arr[0])\n",
        "    out_itr.move_coords()\n",
        "    bar.update(count+1)\n",
        "    count = count + 1\n",
        "output_arr = out_itr.vol_array\n",
        "print(output_arr.shape)\n",
        "output_arr = crop_pad_width(output_arr, pad_size_to_crop)\n",
        "# np.save('/mnt/sdb1/intern_data/pix2pix_wbce_pet3d/test_outputs/0_pred.npy', output_arr)"
      ],
      "execution_count": 0,
      "outputs": []
    },
    {
      "cell_type": "code",
      "metadata": {
        "id": "c8Su1zHcfQmI",
        "colab_type": "code",
        "colab": {}
      },
      "source": [
        "print(img_arr.shape, output_arr.shape, pad_size1)"
      ],
      "execution_count": 0,
      "outputs": []
    },
    {
      "cell_type": "code",
      "metadata": {
        "id": "_bn1z2bEfQmL",
        "colab_type": "code",
        "colab": {}
      },
      "source": [
        "# extract (ground truth) label array for comparing with prediction\n",
        "\n",
        "lbl_path = '/mnt/data/LiverCT/Parenchyma/LITS/val/segmentation-110.nii'\n",
        "\n",
        "lbl = sitk.ReadImage(lbl_path)\n",
        "lbl = resample(lbl, (1.0, 1.0, 1.0), interpolator = sitk.sitkLinear)\n",
        "\n",
        "lbl_arr = sitk.GetArrayFromImage(lbl)\n",
        "lbl_arr[lbl_arr == 2] = 1\n",
        "lbl_arr = np.uint8(snd.zoom(lbl_arr, zoom = (0.5, 0.5, 0.5), order = 0))"
      ],
      "execution_count": 0,
      "outputs": []
    },
    {
      "cell_type": "code",
      "metadata": {
        "id": "XzU_28pCfQmN",
        "colab_type": "code",
        "colab": {}
      },
      "source": [
        "print(lbl_arr.shape)"
      ],
      "execution_count": 0,
      "outputs": []
    },
    {
      "cell_type": "code",
      "metadata": {
        "id": "DEWOTm-lfQmT",
        "colab_type": "code",
        "colab": {}
      },
      "source": [
        "import matplotlib\n",
        "%matplotlib inline\n",
        "import matplotlib.pyplot as plt\n",
        "import numpy as np\n",
        "\n",
        "print(np.unique(output_arr))\n",
        "# print(output_arr.sum())\n",
        "for idx in range(output_arr.shape[0]):\n",
        "    if idx %10 == 0:\n",
        "        print(idx)\n",
        "        plt.figure()\n",
        "        slc = output_arr[idx]\n",
        "        print(np.unique(slc))\n",
        "        plt.subplot(1,2,1)\n",
        "        plt.imshow(slc, cmap = 'gray')\n",
        "        plt.subplot(1,2,2)\n",
        "        plt.imshow(lbl_arr[idx], cmap = 'gray')\n",
        "        plt.show()"
      ],
      "execution_count": 0,
      "outputs": []
    }
  ]
}
