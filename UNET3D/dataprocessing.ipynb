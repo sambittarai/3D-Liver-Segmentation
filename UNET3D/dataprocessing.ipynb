{
 "cells": [
  {
   "cell_type": "code",
   "execution_count": 128,
   "metadata": {},
   "outputs": [
    {
     "name": "stdout",
     "output_type": "stream",
     "text": [
      "3465\n"
     ]
    },
    {
     "data": {
      "text/plain": [
       "3850"
      ]
     },
     "execution_count": 128,
     "metadata": {},
     "output_type": "execute_result"
    }
   ],
   "source": [
    "import os\n",
    "import numpy as np\n",
    "import torch\n",
    "import torch.nn as nn\n",
    "import torch.optim as optim\n",
    "os.environ['CUDA_VISIBLE_DEVICES']='0'\n",
    "from unet3d import UNet\n",
    "import tqdm\n",
    "from torch.utils.data import DataLoader, Dataset, random_split\n",
    "#from datasets import LiverDatasetRandom, LiverDatasetFixed\n",
    "import progressbar\n",
    "\n",
    "#Rotate the 3D tensor and it's corresponding label\n",
    "\n",
    "\n",
    "\n",
    "\n",
    "\n",
    "from torch.utils.data import Dataset, DataLoader\n",
    "class LiverDataset(Dataset):\n",
    "    def __init__(self, filepairlist):\n",
    "        self.filepairlist = filepairlist\n",
    "    def __len__(self):\n",
    "        return len(self.filepairlist)\n",
    "\n",
    "    def __getitem__(self, idx):\n",
    "        imgpath, lblpath = self.filepairlist[idx]\n",
    "        img = np.load(imgpath)\n",
    "        img = np.float32(img)/128 - 1\n",
    "        img = img[None,...]\n",
    "        lbl = np.load(lblpath)\n",
    "        return {'image' : torch.from_numpy(img), 'label' : torch.from_numpy(lbl).long()}\n",
    "\n",
    "#litsids = [1, 3, 4, 5, 6, 8, 9, 10, 12, 13, 15, 16, 19, 20, 22, 25, 26, 27, 31, 32, 102, 103, 104, 105, 107, 108]\n",
    "#litsids = [1]\n",
    "litsids = [1, 3, 4, 5, 6, 8, 9, 10, 12, 13, 15, 16, 19, 20, 22, 25, 26, 27, 31, 32, 33, 35, 36, 37, 38, 40, 41, 42, 43, 44, 45, 48, 49, 52, 53, 54, 55, 57, 58, 59, 60, 61, 62, 63, 64, 66, 67, 83, 85, 86, 87,88, 90, 91, 92, 93, 94, 95, 96, 97, 98, 102, 103, 104, 105, 107, 108, 111, 113, 116, 117, 119, 120, 122, 124, 126, 128, 70, 72, 73, 74, 75, 76, 77, 78, 79, 80, 81]\n",
    "data_root = './data/train'\n",
    "data_files = [os.path.join(data_root, f) for f in os.listdir(data_root)]\n",
    "img_files = [f for f in data_files if 'input' in f]\n",
    "img_lbl_pairs = [(f, f.replace('input', 'label')) for f in img_files]\n",
    "dset = LiverDataset(img_lbl_pairs)\n",
    "dsetlen = len(dset)\n",
    "trndset, valdset = random_split(dset, [int(0.9*dsetlen), int(0.1*dsetlen)])\n",
    "trnloader = DataLoader(trndset, batch_size = 1, shuffle = True, num_workers = 2)\n",
    "print(len(trnloader))\n",
    "valloader = DataLoader(valdset, batch_size = 1, shuffle = False, num_workers = 2)\n",
    "lentrnloader, lenvalloader = len(trnloader), len(valloader)\n",
    "\n",
    "len(dset)"
   ]
  },
  {
   "cell_type": "code",
   "execution_count": null,
   "metadata": {},
   "outputs": [],
   "source": [
    "def rotate_random(array1,array2):\n",
    "    import random\n",
    "    \n",
    "    temp = random.randint(1,3) \n",
    "    z = np.zeros(array1.shape)\n",
    "    zz = np.zeros(array2.shape)\n",
    "    \n",
    "    #Updating the images\n",
    "    for i in range(z.shape[0]):\n",
    "        z[i,:,:] = np.rot90(array1[i,:,:], k=temp)\n",
    "    \n",
    "    #Updating the labels\n",
    "    for i in range(zz.shape[0]):\n",
    "        zz[i,:,:] = np.rot90(array2[i,:,:], k=temp)\n",
    "        \n",
    "    return z,zz\n",
    "\n",
    "def save(array1,array2,index):        \n",
    "    lid = 129 + index%50\n",
    "    i = index\n",
    "\n",
    "    save_dir = 'data/augmented'\n",
    "    inppname = 'img' + str(lid) + '_input'+str(i)+'.npy'\n",
    "    tgtpname = 'img' + str(lid) + '_label'+str(i)+'.npy'\n",
    "    np.save(os.path.join(save_dir, inppname), images)\n",
    "    np.save(os.path.join(save_dir, tgtpname), labels)\n",
    "    print(\"Done\")\n",
    "\n",
    "trniter = iter(trnloader)\n",
    "for i in range(lentrnloader):\n",
    "    batch = next(trniter)\n",
    "    images, labels = batch['image'], batch['label']\n",
    "    images = images.numpy()\n",
    "    labels = labels.numpy()\n",
    "    images = np.squeeze(images, axis=0)\n",
    "    images = np.squeeze(images, axis=0)\n",
    "    labels = np.squeeze(labels, axis=0)\n",
    "    #Rotates the volume and label by the given angle\n",
    "    images,labels = rotate_random(images,labels)\n",
    "    #saves the data in the directory\n",
    "    save(images,labels,i)    \n"
   ]
  },
  {
   "cell_type": "code",
   "execution_count": 147,
   "metadata": {},
   "outputs": [],
   "source": [
    "z = np.load('data/augmented/img172_input1943.npy')\n",
    "zz = np.load('data/augmented/img1_input0.npy')\n",
    "qq = np.load('data/augmented/img1_label3.npy')\n",
    "q = np.load('data/augmented/img172_label1943.npy')"
   ]
  },
  {
   "cell_type": "code",
   "execution_count": null,
   "metadata": {},
   "outputs": [],
   "source": [
    "for i in range(22):\n",
    "    plt.imshow(q[i,:,:], cmap=\"gray\")\n",
    "    plt.show()\n",
    "    plt.imshow(qq[i,:,:], cmap=\"gray\")\n",
    "    plt.show()\n"
   ]
  },
  {
   "cell_type": "code",
   "execution_count": 4,
   "metadata": {},
   "outputs": [
    {
     "data": {
      "image/png": "[encoded data removed]",
      "text/plain": [
       "<Figure size 432x288 with 1 Axes>"
      ]
     },
     "metadata": {
      "needs_background": "light"
     },
     "output_type": "display_data"
    },
    {
     "data": {
      "image/png": "[encoded data removed]",
      "text/plain": [
       "<Figure size 432x288 with 1 Axes>"
      ]
     },
     "metadata": {
      "needs_background": "light"
     },
     "output_type": "display_data"
    }
   ],
   "source": [
    "import numpy as np\n",
    "import matplotlib.pyplot as plt\n",
    "\n",
    "t = np.arange(13)\n",
    "t = t+1\n",
    "loss1 = np.load('loss/loss1_12.npy')\n",
    "loss2 = np.load('loss/loss2_12.npy')\n",
    "\n",
    "plt.plot(t,loss1)\n",
    "plt.show()\n",
    "plt.plot(t[:12],loss2)\n",
    "plt.show()"
   ]
  },
  {
   "cell_type": "code",
   "execution_count": 3,
   "metadata": {},
   "outputs": [
    {
     "data": {
      "text/plain": [
       "12"
      ]
     },
     "execution_count": 3,
     "metadata": {},
     "output_type": "execute_result"
    }
   ],
   "source": [
    "len(loss2)"
   ]
  }
 ],
 "metadata": {
  "kernelspec": {
   "display_name": "Python 3",
   "language": "python",
   "name": "python3"
  },
  "language_info": {
   "codemirror_mode": {
    "name": "ipython",
    "version": 3
   },
   "file_extension": ".py",
   "mimetype": "text/x-python",
   "name": "python",
   "nbconvert_exporter": "python",
   "pygments_lexer": "ipython3",
   "version": "3.5.2"
  }
 },
 "nbformat": 4,
 "nbformat_minor": 4
}
